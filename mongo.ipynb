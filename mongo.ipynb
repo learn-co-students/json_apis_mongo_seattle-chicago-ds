{
 "cells": [
  {
   "cell_type": "markdown",
   "metadata": {},
   "source": [
    "# On MongoDB\n",
    "\n",
    "First, install mongo!\n",
    "\n",
    "$\\rightarrow$ You may need to adjust your security settings! <br/>\n",
    "$\\rightarrow$ There is a known problem with installing mongo on Catalina. The mongo installation looks to set up a data directory at `/data/db`, which Catalina will not allow.\n",
    "\n",
    "Here is one work-around:\n",
    "\n",
    "```brew tap mongodb/brew\n",
    "brew install mongodb-community\n",
    "sudo mkdir -p /System/Volumes/Data/data/db\n",
    "sudo chown -R `id -un` /System/Volumes/Data/data/db\n",
    "mongod --dbpath=/System/Volumes/Data/data/db```"
   ]
  },
  {
   "cell_type": "markdown",
   "metadata": {},
   "source": [
    "## Mongo in the Terminal\n",
    "\n",
    "Let's try a few simple commands.\n",
    "\n",
    "1. Run `mongo` to launch the program!\n",
    "2. Now run `help` to see some mongo hints.\n",
    "3. Let's run `show dbs` to show the databases to which we're currently connected.\n",
    "4. To use or create a particular database, simply type `use` followed by the name of the database.\n",
    "5. Once we're accessing a particular database, we can list its collections by running `show collections`.\n",
    "\n",
    "But what's a collection? What are we doing with this Mongo thing? Let's talk about some concepts!"
   ]
  },
  {
   "cell_type": "markdown",
   "metadata": {},
   "source": [
    "## What Is Mongo?\n",
    "\n",
    "Mongo is one of the leading tools for working with *non-relational* databases.\n",
    "\n",
    "With Mongo we should at least be able to Create, Read, Update, Delete: the four basic functions of persistent storage.\n",
    "\n",
    "[This site](https://www.tutorialspoint.com/mongodb/index.htm) is an excellent resource on Mongo. Let's check it out!\n",
    "\n",
    "- Overview: Terminology: SQL vs. NoSQL (Not only SQL)\n",
    "- Advantages: NoSQL\n",
    "- Data Modeling: Example\n",
    "- Queries: Equivalents of SQL 'WHERE', 'AND', and 'OR'\n",
    "- Aggregation: Equivalents of SQL 'GROUPBY'"
   ]
  },
  {
   "cell_type": "code",
   "execution_count": null,
   "metadata": {},
   "outputs": [],
   "source": [
    "import json\n",
    "import requests\n",
    "import pandas as pd"
   ]
  },
  {
   "cell_type": "code",
   "execution_count": null,
   "metadata": {},
   "outputs": [],
   "source": [
    "with open('data/burgers.json', 'r') as f:\n",
    "    burgers = json.load(f)"
   ]
  },
  {
   "cell_type": "code",
   "execution_count": null,
   "metadata": {},
   "outputs": [],
   "source": [
    "burgers"
   ]
  },
  {
   "cell_type": "markdown",
   "metadata": {},
   "source": [
    "## Putting in Mongo"
   ]
  },
  {
   "cell_type": "markdown",
   "metadata": {},
   "source": [
    "We could do all we need in the terminal, but we can also make use of pymongo, which is a Python package that interfaces with mongo databases!"
   ]
  },
  {
   "cell_type": "code",
   "execution_count": null,
   "metadata": {},
   "outputs": [],
   "source": [
    "#!conda install pymongo\n",
    "import pymongo\n",
    "\n",
    "client = pymongo.MongoClient('mongodb://127.0.0.1:27017')"
   ]
  },
  {
   "cell_type": "code",
   "execution_count": null,
   "metadata": {},
   "outputs": [],
   "source": [
    "client.list_database_names()"
   ]
  },
  {
   "cell_type": "code",
   "execution_count": null,
   "metadata": {},
   "outputs": [],
   "source": [
    "db = client['yelp']"
   ]
  },
  {
   "cell_type": "code",
   "execution_count": null,
   "metadata": {},
   "outputs": [],
   "source": [
    "db.list_collection_names()"
   ]
  },
  {
   "cell_type": "code",
   "execution_count": null,
   "metadata": {},
   "outputs": [],
   "source": [
    "db.create_collection('yelp_burgers')"
   ]
  },
  {
   "cell_type": "code",
   "execution_count": null,
   "metadata": {},
   "outputs": [],
   "source": [
    "db.list_collection_names()"
   ]
  },
  {
   "cell_type": "code",
   "execution_count": null,
   "metadata": {},
   "outputs": [],
   "source": [
    "db['yelp_burgers'].insert_many(burgers)"
   ]
  },
  {
   "cell_type": "code",
   "execution_count": null,
   "metadata": {},
   "outputs": [],
   "source": [
    "db['yelp_burgers'].inserted_ids"
   ]
  },
  {
   "cell_type": "code",
   "execution_count": null,
   "metadata": {},
   "outputs": [],
   "source": [
    "chi_burgers = db['yelp_burgers']"
   ]
  },
  {
   "cell_type": "code",
   "execution_count": null,
   "metadata": {},
   "outputs": [],
   "source": [
    "chi_burgers.find({})[0]"
   ]
  },
  {
   "cell_type": "code",
   "execution_count": null,
   "metadata": {},
   "outputs": [],
   "source": [
    "chi_burgers.find({'name': 'Butcher & The Burger'})[0]"
   ]
  },
  {
   "cell_type": "markdown",
   "metadata": {},
   "source": [
    "### Updating"
   ]
  },
  {
   "cell_type": "code",
   "execution_count": null,
   "metadata": {},
   "outputs": [],
   "source": [
    "lbw = {'name': 'Little Bad Wolf'}"
   ]
  },
  {
   "cell_type": "code",
   "execution_count": null,
   "metadata": {},
   "outputs": [],
   "source": [
    "chi_burgers.update_one(lbw, {'$set': {'greg_rating': 'five stars'}})"
   ]
  },
  {
   "cell_type": "code",
   "execution_count": null,
   "metadata": {},
   "outputs": [],
   "source": [
    "chi_burgers.find({'name': 'Little Bad Wolf'})[0]"
   ]
  },
  {
   "cell_type": "markdown",
   "metadata": {},
   "source": [
    "### Filtering\n",
    "\n",
    "We can specify either the keys/values we want displayed (with '1') or the keys/values we do NOT want displayed (with '0')."
   ]
  },
  {
   "cell_type": "code",
   "execution_count": null,
   "metadata": {},
   "outputs": [],
   "source": [
    "for eatery in chi_burgers.find({}, {'name': 1}):\n",
    "    print(eatery)"
   ]
  },
  {
   "cell_type": "markdown",
   "metadata": {},
   "source": [
    "The '\\_id' key is the only one whose value (0 or 1) can be different from the rest."
   ]
  },
  {
   "cell_type": "code",
   "execution_count": null,
   "metadata": {},
   "outputs": [],
   "source": [
    "for eatery in chi_burgers.find({}, {'_id': 0, 'name': 1, 'location': 1}):\n",
    "    print(eatery)"
   ]
  },
  {
   "cell_type": "markdown",
   "metadata": {},
   "source": [
    "### Sorting"
   ]
  },
  {
   "cell_type": "code",
   "execution_count": null,
   "metadata": {},
   "outputs": [],
   "source": [
    "chi_burgers.find({}, {'_id': 0, 'name': 1, 'location': 1}).sort('name')[0]"
   ]
  },
  {
   "cell_type": "markdown",
   "metadata": {},
   "source": [
    "### Aggregating\n",
    "\n",
    "Try this one yourselves!"
   ]
  },
  {
   "cell_type": "markdown",
   "metadata": {},
   "source": [
    "### Some Useful `pymongo` Methods\n",
    "\n",
    "`.find()`\n",
    "`.delete_one()`\n",
    "`.update()`\n",
    "`.update_many()`\n",
    "`.insert_one()`\n",
    "`.insert_many()`"
   ]
  },
  {
   "cell_type": "code",
   "execution_count": null,
   "metadata": {},
   "outputs": [],
   "source": []
  },
  {
   "cell_type": "markdown",
   "metadata": {},
   "source": [
    "## MongoDB Atlas: MongoDB in the Cloud\n",
    "\n",
    "MongoDB Atlas is your ticket to MongoDB in the cloud! This may be desirable if you're running into space issues with large databases or if you need to collaborate with others on a project.\n",
    "\n",
    "Here I'll walk through simple first steps to setting up MongoDB Atlas:\n",
    "\n",
    "1. Start here: https://www.mongodb.com/cloud/atlas\n",
    "2. Click on “Start Free”\n",
    "3. You’ll supply your email, first and last name, and a password at the registration site (https://www.mongodb.com/cloud/atlas/register)\n",
    "4. Now click “Create a Cluster”\n",
    "5. Select “Starter Clusters”\n",
    "6. Configure Cluster\n",
    "7. Select AWS as provider and “Oregon” as region\n",
    "8. Leave Cluster Tier as is\n",
    "9. Leave Additional Settings as is\n",
    "10. Edit Cluster Name\n",
    "11. Wait for your Cluster to be built\n",
    "\n",
    "To connect: <br/>\n",
    "12. Click on ‘Connect’\n",
    "13. Whitelist your connection IP address using your existing IP Address\n",
    "14. Name it: Laptop on WeWork wifi\n",
    "15. Create a mongoDB User\n",
    "16. Choose a connection method\n",
    "17. Click on ‘Connect Your Application’\n",
    "18. Choose your driver version\n",
    "19. Driver: Python\n",
    "20. Version: 3.6 or later\n",
    "21. Add your connection string into your application code\n",
    "22. Click on Full Driver Example\n",
    "23. Replace <password> with the password for the <dbUser> user.\n",
    "\n",
    "In the terminal, be sure you’re in the learn-env conda environment before typing: <br/>\n",
    "`conda install pymongo` <br/>\n",
    "`conda install dnspython`\n",
    "\n",
    "\n",
    "- To share your database with a team member, follow these steps: <br/>\n",
    "    Database Access → Click on “Add New User” <br/>\n",
    "    Assign each team member the following: <br/>\n",
    "    - A user name\n",
    "    - A password\n",
    "    \n",
    "Send your team member the following: <br/>\n",
    "    Their user name you assigned to them <br/>\n",
    "    Their password you assigned to them <br/>\n",
    "    Your mongodb connection string"
   ]
  },
  {
   "cell_type": "code",
   "execution_count": null,
   "metadata": {},
   "outputs": [],
   "source": [
    "# Let's do a quick demo of adding data to a cluster on MongoDB Atlas!\n",
    "\n",
    "# import pymongo"
   ]
  },
  {
   "cell_type": "code",
   "execution_count": null,
   "metadata": {},
   "outputs": [],
   "source": [
    "#!pip install dnspython"
   ]
  },
  {
   "cell_type": "code",
   "execution_count": null,
   "metadata": {},
   "outputs": [],
   "source": [
    "client = pymongo.MongoClient(\"mongodb+srv://gadamico:[pwd]\\\n",
    "@gregcluster200204-7ckf3.mongodb.net/test?retryWrites=true&w=majority\")\n",
    "db = client.test"
   ]
  },
  {
   "cell_type": "code",
   "execution_count": null,
   "metadata": {},
   "outputs": [],
   "source": [
    "client.list_database_names()"
   ]
  },
  {
   "cell_type": "code",
   "execution_count": null,
   "metadata": {},
   "outputs": [],
   "source": [
    "db = client.test\n",
    "db.list_collection_names()"
   ]
  },
  {
   "cell_type": "code",
   "execution_count": null,
   "metadata": {},
   "outputs": [],
   "source": [
    "db.people.find({})[0]"
   ]
  },
  {
   "cell_type": "code",
   "execution_count": null,
   "metadata": {},
   "outputs": [],
   "source": [
    "import datetime\n",
    "personDocument = {\n",
    "  \"name\": { \"first\": \"Charles\", \"last\": \"Babbage\" },\n",
    "  \"birth\": datetime.datetime(1791, 12, 26),\n",
    "  \"death\": datetime.datetime(1871, 10, 18),\n",
    "  \"contribs\": [ \"computer\", \"difference engine\"]\n",
    "}\n",
    "\n",
    "db.people.insert_one(personDocument)"
   ]
  },
  {
   "cell_type": "code",
   "execution_count": null,
   "metadata": {},
   "outputs": [],
   "source": [
    "db.people.find({})[1]"
   ]
  },
  {
   "cell_type": "code",
   "execution_count": null,
   "metadata": {},
   "outputs": [],
   "source": []
  }
 ],
 "metadata": {
  "kernelspec": {
   "display_name": "Python 3",
   "language": "python",
   "name": "python3"
  },
  "language_info": {
   "codemirror_mode": {
    "name": "ipython",
    "version": 3
   },
   "file_extension": ".py",
   "mimetype": "text/x-python",
   "name": "python",
   "nbconvert_exporter": "python",
   "pygments_lexer": "ipython3",
   "version": "3.7.2"
  }
 },
 "nbformat": 4,
 "nbformat_minor": 2
}
